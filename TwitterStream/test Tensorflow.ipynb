{
 "cells": [
  {
   "cell_type": "code",
   "execution_count": 2,
   "id": "2f318c2b",
   "metadata": {},
   "outputs": [],
   "source": [
    "import pandas as pd\n",
    "import json\n",
    "import ast\n",
    "from pprint import pprint\n",
    "import tensorflow as tf\n",
    "import tensorflow_hub as hub\n",
    "import numpy as np"
   ]
  },
  {
   "cell_type": "markdown",
   "id": "5c0666aa",
   "metadata": {},
   "source": [
    "## Reading data"
   ]
  },
  {
   "cell_type": "code",
   "execution_count": 8,
   "id": "ffee673b",
   "metadata": {},
   "outputs": [],
   "source": [
    "df_origin = pd.read_csv('data/random_tweets.csv')\n",
    "df_origin['context_annotations'] = df_origin['context_annotations'].apply(ast.literal_eval)\n",
    "df_origin['entities'] = df_origin['entities'].apply(ast.literal_eval)\n",
    "\n",
    "df = df_origin.drop('id', axis=1)"
   ]
  },
  {
   "cell_type": "markdown",
   "id": "bf1c15e6",
   "metadata": {},
   "source": [
    "## Selecting the annotated samples"
   ]
  },
  {
   "cell_type": "code",
   "execution_count": 36,
   "id": "5c4178a0",
   "metadata": {},
   "outputs": [],
   "source": [
    "anotated_df = df.drop(df[df['context_annotations'].str.len() == 0].index)"
   ]
  },
  {
   "cell_type": "code",
   "execution_count": 37,
   "id": "ac5449c3",
   "metadata": {},
   "outputs": [
    {
     "data": {
      "text/html": [
       "<div>\n",
       "<style scoped>\n",
       "    .dataframe tbody tr th:only-of-type {\n",
       "        vertical-align: middle;\n",
       "    }\n",
       "\n",
       "    .dataframe tbody tr th {\n",
       "        vertical-align: top;\n",
       "    }\n",
       "\n",
       "    .dataframe thead th {\n",
       "        text-align: right;\n",
       "    }\n",
       "</style>\n",
       "<table border=\"1\" class=\"dataframe\">\n",
       "  <thead>\n",
       "    <tr style=\"text-align: right;\">\n",
       "      <th></th>\n",
       "      <th>text</th>\n",
       "      <th>context_annotations</th>\n",
       "      <th>entities</th>\n",
       "    </tr>\n",
       "  </thead>\n",
       "  <tbody>\n",
       "    <tr>\n",
       "      <th>3</th>\n",
       "      <td>#Israel is working with #HongKong on a trial w...</td>\n",
       "      <td>[{'domain': {'id': '30', 'name': 'Entities [En...</td>\n",
       "      <td>{'hashtags': [{'start': 0, 'end': 7, 'tag': 'I...</td>\n",
       "    </tr>\n",
       "    <tr>\n",
       "      <th>5</th>\n",
       "      <td>@coinexcom 1. ETH 2. LINK 3. CET 4. RIPPLE 5. ...</td>\n",
       "      <td>[{'domain': {'id': '30', 'name': 'Entities [En...</td>\n",
       "      <td>{'hashtags': [{'start': 53, 'end': 60, 'tag': ...</td>\n",
       "    </tr>\n",
       "    <tr>\n",
       "      <th>9</th>\n",
       "      <td>I forgot to tweet about going live. Still kind...</td>\n",
       "      <td>[{'domain': {'id': '45', 'name': 'Brand Vertic...</td>\n",
       "      <td>{'annotations': [{'start': 132, 'end': 138, 'p...</td>\n",
       "    </tr>\n",
       "    <tr>\n",
       "      <th>12</th>\n",
       "      <td>Count me in. I've got time on my hands to help...</td>\n",
       "      <td>[{'domain': {'id': '10', 'name': 'Person', 'de...</td>\n",
       "      <td>{'urls': [{'start': 48, 'end': 71, 'url': 'htt...</td>\n",
       "    </tr>\n",
       "    <tr>\n",
       "      <th>13</th>\n",
       "      <td>RT @Booker4KY: I am a proud Kentuckian. A lot ...</td>\n",
       "      <td>[{'domain': {'id': '159', 'name': 'States', 'd...</td>\n",
       "      <td>{'annotations': [{'start': 67, 'end': 74, 'pro...</td>\n",
       "    </tr>\n",
       "    <tr>\n",
       "      <th>...</th>\n",
       "      <td>...</td>\n",
       "      <td>...</td>\n",
       "      <td>...</td>\n",
       "    </tr>\n",
       "    <tr>\n",
       "      <th>177920</th>\n",
       "      <td>@MayraFlores2022 @newsmax You offer nothing mo...</td>\n",
       "      <td>[{'domain': {'id': '10', 'name': 'Person', 'de...</td>\n",
       "      <td>{'mentions': [{'start': 0, 'end': 16, 'usernam...</td>\n",
       "    </tr>\n",
       "    <tr>\n",
       "      <th>177924</th>\n",
       "      <td>@apoyo_bts07 @BTS_twt Higual #PremiosMTVMiaw #...</td>\n",
       "      <td>[{'domain': {'id': '29', 'name': 'Events [Enti...</td>\n",
       "      <td>{'hashtags': [{'start': 30, 'end': 45, 'tag': ...</td>\n",
       "    </tr>\n",
       "    <tr>\n",
       "      <th>177927</th>\n",
       "      <td>RT @starfuryevents: Competition Time! To celeb...</td>\n",
       "      <td>[{'domain': {'id': '3', 'name': 'TV Shows', 'd...</td>\n",
       "      <td>{'annotations': [{'start': 77, 'end': 102, 'pr...</td>\n",
       "    </tr>\n",
       "    <tr>\n",
       "      <th>177929</th>\n",
       "      <td>RT @Atlacoya5: Friendly reminder from WenZhou:...</td>\n",
       "      <td>[{'domain': {'id': '172', 'name': 'Global TV S...</td>\n",
       "      <td>{'annotations': [{'start': 38, 'end': 44, 'pro...</td>\n",
       "    </tr>\n",
       "    <tr>\n",
       "      <th>177930</th>\n",
       "      <td>My afternoon meeting was rescheduled so now I’...</td>\n",
       "      <td>[{'domain': {'id': '65', 'name': 'Interests an...</td>\n",
       "      <td>{}</td>\n",
       "    </tr>\n",
       "  </tbody>\n",
       "</table>\n",
       "<p>67336 rows × 3 columns</p>\n",
       "</div>"
      ],
      "text/plain": [
       "                                                     text  \\\n",
       "3       #Israel is working with #HongKong on a trial w...   \n",
       "5       @coinexcom 1. ETH 2. LINK 3. CET 4. RIPPLE 5. ...   \n",
       "9       I forgot to tweet about going live. Still kind...   \n",
       "12      Count me in. I've got time on my hands to help...   \n",
       "13      RT @Booker4KY: I am a proud Kentuckian. A lot ...   \n",
       "...                                                   ...   \n",
       "177920  @MayraFlores2022 @newsmax You offer nothing mo...   \n",
       "177924  @apoyo_bts07 @BTS_twt Higual #PremiosMTVMiaw #...   \n",
       "177927  RT @starfuryevents: Competition Time! To celeb...   \n",
       "177929  RT @Atlacoya5: Friendly reminder from WenZhou:...   \n",
       "177930  My afternoon meeting was rescheduled so now I’...   \n",
       "\n",
       "                                      context_annotations  \\\n",
       "3       [{'domain': {'id': '30', 'name': 'Entities [En...   \n",
       "5       [{'domain': {'id': '30', 'name': 'Entities [En...   \n",
       "9       [{'domain': {'id': '45', 'name': 'Brand Vertic...   \n",
       "12      [{'domain': {'id': '10', 'name': 'Person', 'de...   \n",
       "13      [{'domain': {'id': '159', 'name': 'States', 'd...   \n",
       "...                                                   ...   \n",
       "177920  [{'domain': {'id': '10', 'name': 'Person', 'de...   \n",
       "177924  [{'domain': {'id': '29', 'name': 'Events [Enti...   \n",
       "177927  [{'domain': {'id': '3', 'name': 'TV Shows', 'd...   \n",
       "177929  [{'domain': {'id': '172', 'name': 'Global TV S...   \n",
       "177930  [{'domain': {'id': '65', 'name': 'Interests an...   \n",
       "\n",
       "                                                 entities  \n",
       "3       {'hashtags': [{'start': 0, 'end': 7, 'tag': 'I...  \n",
       "5       {'hashtags': [{'start': 53, 'end': 60, 'tag': ...  \n",
       "9       {'annotations': [{'start': 132, 'end': 138, 'p...  \n",
       "12      {'urls': [{'start': 48, 'end': 71, 'url': 'htt...  \n",
       "13      {'annotations': [{'start': 67, 'end': 74, 'pro...  \n",
       "...                                                   ...  \n",
       "177920  {'mentions': [{'start': 0, 'end': 16, 'usernam...  \n",
       "177924  {'hashtags': [{'start': 30, 'end': 45, 'tag': ...  \n",
       "177927  {'annotations': [{'start': 77, 'end': 102, 'pr...  \n",
       "177929  {'annotations': [{'start': 38, 'end': 44, 'pro...  \n",
       "177930                                                 {}  \n",
       "\n",
       "[67336 rows x 3 columns]"
      ]
     },
     "execution_count": 37,
     "metadata": {},
     "output_type": "execute_result"
    }
   ],
   "source": [
    "anotated_df"
   ]
  },
  {
   "cell_type": "code",
   "execution_count": 53,
   "id": "093f82db",
   "metadata": {},
   "outputs": [
    {
     "name": "stdout",
     "output_type": "stream",
     "text": [
      "the number of annotated samples are:  67336\n"
     ]
    }
   ],
   "source": [
    "print('the number of annotated samples are: ', anotated_df.shape[0])"
   ]
  },
  {
   "cell_type": "code",
   "execution_count": 31,
   "id": "fdc84657",
   "metadata": {},
   "outputs": [
    {
     "name": "stdout",
     "output_type": "stream",
     "text": [
      "['Cryptocurrencies', 'Technology', 'Cybersecurity', 'Bloomberg Technology', 'Entities [Entity Service]', 'Information security', 'Events [Entity Service]', 'Interests and Hobbies Category']\n"
     ]
    }
   ],
   "source": [
    "def get_domain_and_entities(annotations):\n",
    "    subjects = set()\n",
    "    for ann in annotations:\n",
    "        subjects.add(ann['domain']['name'])\n",
    "        subjects.add(ann['entity']['name'])\n",
    "    return list(subjects)\n",
    "print(get_domain_and_entities(anotated_df.iloc[0].context_annotations))"
   ]
  },
  {
   "cell_type": "code",
   "execution_count": 38,
   "id": "cdc9d163",
   "metadata": {},
   "outputs": [],
   "source": [
    "anotated_df['subjects'] = anotated_df['context_annotations'].apply(get_domain_and_entities)"
   ]
  },
  {
   "cell_type": "markdown",
   "id": "5fc6396f",
   "metadata": {},
   "source": []
  },
  {
   "cell_type": "markdown",
   "id": "675936f3",
   "metadata": {},
   "source": [
    "## Selecting the most common subjects to be used as classes\n",
    "Here, we count the occurrencies of each subject, and select the 10 most common.\n",
    "\n",
    "We choose to remove the subjects that has a therm in it's name equal to another common subject. For example: 'Brand Vertical' and 'Brand Category' is removed if 'Brand' is also common. That was done to avoid having subjects that looks too much like each other\n"
   ]
  },
  {
   "cell_type": "code",
   "execution_count": 48,
   "id": "bdfa9fb5",
   "metadata": {},
   "outputs": [],
   "source": [
    "from collections import Counter\n",
    "\n",
    "subject_counter = Counter()\n",
    "for sample in anotated_df.iloc:\n",
    "    subject_counter.update(sample['subjects'])"
   ]
  },
  {
   "cell_type": "code",
   "execution_count": 111,
   "id": "18018bd0",
   "metadata": {},
   "outputs": [
    {
     "name": "stdout",
     "output_type": "stream",
     "text": [
      "The following classes will be removed:\n",
      "('Brand Vertical', 7350)\n",
      "('Brand Category', 12140)\n"
     ]
    },
    {
     "data": {
      "text/plain": [
       "['Person',\n",
       " 'Brand',\n",
       " 'Musician',\n",
       " 'Music Genre',\n",
       " 'Politician',\n",
       " 'Interests and Hobbies Category',\n",
       " 'TV Shows',\n",
       " 'K-pop']"
      ]
     },
     "execution_count": 111,
     "metadata": {},
     "output_type": "execute_result"
    }
   ],
   "source": [
    "used_classes = subject_counter.most_common(10)\n",
    "removed_classes = set()\n",
    "for i in range(len(used_classes)):\n",
    "    for j in range(i + 1,len(used_classes)):\n",
    "        if (used_classes[i][0] in used_classes[j][0]) or (used_classes[j][0] in used_classes[i][0]):\n",
    "            removed_classes.add(j)\n",
    "\n",
    "            \n",
    "removed_classes = list(removed_classes)\n",
    "removed_classes.sort(reverse=True)\n",
    "print('The following classes will be removed:')\n",
    "for removed_class in removed_classes:\n",
    "    print(used_classes[removed_class])\n",
    "    del used_classes[removed_class]\n",
    "    \n",
    "used_classes_names = [used_class[0] for used_class in used_classes]\n",
    "used_classes_names"
   ]
  },
  {
   "cell_type": "markdown",
   "id": "b511205a",
   "metadata": {},
   "source": [
    "## Selecting samples from the used classes\n",
    "\n",
    "At this point, each sample can belong to more then 1 class, so we select the sample if any of it's classes is common"
   ]
  },
  {
   "cell_type": "code",
   "execution_count": 112,
   "id": "00461f75",
   "metadata": {},
   "outputs": [],
   "source": [
    "anotated_df_common = anotated_df[anotated_df['subjects'].apply(\n",
    "    lambda x: any([subject in used_classes_names for subject in x])\n",
    ")].copy()"
   ]
  },
  {
   "cell_type": "code",
   "execution_count": 118,
   "id": "1736a74f",
   "metadata": {},
   "outputs": [
    {
     "name": "stdout",
     "output_type": "stream",
     "text": [
      "there are 54148 samples for the 8 used classes\n"
     ]
    }
   ],
   "source": [
    "print('there are', anotated_df_common.shape[0], 'samples for the',len(used_classes),'used classes')"
   ]
  },
  {
   "cell_type": "markdown",
   "id": "6ffc21ad",
   "metadata": {},
   "source": [
    "## Removing the unused subjects"
   ]
  },
  {
   "cell_type": "code",
   "execution_count": 114,
   "id": "e8050df2",
   "metadata": {},
   "outputs": [],
   "source": [
    "anotated_df_common['subjects'] = anotated_df_common['subjects'].apply(\n",
    "    lambda subjects: [subject for subject in subjects if subject in used_classes_names]\n",
    ")"
   ]
  },
  {
   "cell_type": "code",
   "execution_count": 115,
   "id": "184ac0ee",
   "metadata": {},
   "outputs": [
    {
     "data": {
      "text/html": [
       "<div>\n",
       "<style scoped>\n",
       "    .dataframe tbody tr th:only-of-type {\n",
       "        vertical-align: middle;\n",
       "    }\n",
       "\n",
       "    .dataframe tbody tr th {\n",
       "        vertical-align: top;\n",
       "    }\n",
       "\n",
       "    .dataframe thead th {\n",
       "        text-align: right;\n",
       "    }\n",
       "</style>\n",
       "<table border=\"1\" class=\"dataframe\">\n",
       "  <thead>\n",
       "    <tr style=\"text-align: right;\">\n",
       "      <th></th>\n",
       "      <th>text</th>\n",
       "      <th>context_annotations</th>\n",
       "      <th>entities</th>\n",
       "      <th>subjects</th>\n",
       "    </tr>\n",
       "  </thead>\n",
       "  <tbody>\n",
       "    <tr>\n",
       "      <th>3</th>\n",
       "      <td>#Israel is working with #HongKong on a trial w...</td>\n",
       "      <td>[{'domain': {'id': '30', 'name': 'Entities [En...</td>\n",
       "      <td>{'hashtags': [{'start': 0, 'end': 7, 'tag': 'I...</td>\n",
       "      <td>[Interests and Hobbies Category]</td>\n",
       "    </tr>\n",
       "    <tr>\n",
       "      <th>9</th>\n",
       "      <td>I forgot to tweet about going live. Still kind...</td>\n",
       "      <td>[{'domain': {'id': '45', 'name': 'Brand Vertic...</td>\n",
       "      <td>{'annotations': [{'start': 132, 'end': 138, 'p...</td>\n",
       "      <td>[Brand]</td>\n",
       "    </tr>\n",
       "    <tr>\n",
       "      <th>12</th>\n",
       "      <td>Count me in. I've got time on my hands to help...</td>\n",
       "      <td>[{'domain': {'id': '10', 'name': 'Person', 'de...</td>\n",
       "      <td>{'urls': [{'start': 48, 'end': 71, 'url': 'htt...</td>\n",
       "      <td>[Person, Politician]</td>\n",
       "    </tr>\n",
       "    <tr>\n",
       "      <th>13</th>\n",
       "      <td>RT @Booker4KY: I am a proud Kentuckian. A lot ...</td>\n",
       "      <td>[{'domain': {'id': '159', 'name': 'States', 'd...</td>\n",
       "      <td>{'annotations': [{'start': 67, 'end': 74, 'pro...</td>\n",
       "      <td>[Politician, Person]</td>\n",
       "    </tr>\n",
       "    <tr>\n",
       "      <th>16</th>\n",
       "      <td>@PaulCowland_ @DrewPritchard @discoveryplusUK ...</td>\n",
       "      <td>[{'domain': {'id': '45', 'name': 'Brand Vertic...</td>\n",
       "      <td>{'mentions': [{'start': 0, 'end': 13, 'usernam...</td>\n",
       "      <td>[Brand]</td>\n",
       "    </tr>\n",
       "    <tr>\n",
       "      <th>...</th>\n",
       "      <td>...</td>\n",
       "      <td>...</td>\n",
       "      <td>...</td>\n",
       "      <td>...</td>\n",
       "    </tr>\n",
       "    <tr>\n",
       "      <th>177914</th>\n",
       "      <td>RT @itzz_blitz1: Mr doyin okupe is hinting tha...</td>\n",
       "      <td>[{'domain': {'id': '10', 'name': 'Person', 'de...</td>\n",
       "      <td>{'annotations': [{'start': 17, 'end': 24, 'pro...</td>\n",
       "      <td>[Person, Politician]</td>\n",
       "    </tr>\n",
       "    <tr>\n",
       "      <th>177917</th>\n",
       "      <td>RT @YourGrowFriend: I have a dream wherein Pre...</td>\n",
       "      <td>[{'domain': {'id': '10', 'name': 'Person', 'de...</td>\n",
       "      <td>{'mentions': [{'start': 3, 'end': 18, 'usernam...</td>\n",
       "      <td>[Politician, Person]</td>\n",
       "    </tr>\n",
       "    <tr>\n",
       "      <th>177920</th>\n",
       "      <td>@MayraFlores2022 @newsmax You offer nothing mo...</td>\n",
       "      <td>[{'domain': {'id': '10', 'name': 'Person', 'de...</td>\n",
       "      <td>{'mentions': [{'start': 0, 'end': 16, 'usernam...</td>\n",
       "      <td>[Person, Politician]</td>\n",
       "    </tr>\n",
       "    <tr>\n",
       "      <th>177924</th>\n",
       "      <td>@apoyo_bts07 @BTS_twt Higual #PremiosMTVMiaw #...</td>\n",
       "      <td>[{'domain': {'id': '29', 'name': 'Events [Enti...</td>\n",
       "      <td>{'hashtags': [{'start': 30, 'end': 45, 'tag': ...</td>\n",
       "      <td>[K-pop, Music Genre, Musician, Person]</td>\n",
       "    </tr>\n",
       "    <tr>\n",
       "      <th>177927</th>\n",
       "      <td>RT @starfuryevents: Competition Time! To celeb...</td>\n",
       "      <td>[{'domain': {'id': '3', 'name': 'TV Shows', 'd...</td>\n",
       "      <td>{'annotations': [{'start': 77, 'end': 102, 'pr...</td>\n",
       "      <td>[TV Shows, Brand]</td>\n",
       "    </tr>\n",
       "  </tbody>\n",
       "</table>\n",
       "<p>54148 rows × 4 columns</p>\n",
       "</div>"
      ],
      "text/plain": [
       "                                                     text  \\\n",
       "3       #Israel is working with #HongKong on a trial w...   \n",
       "9       I forgot to tweet about going live. Still kind...   \n",
       "12      Count me in. I've got time on my hands to help...   \n",
       "13      RT @Booker4KY: I am a proud Kentuckian. A lot ...   \n",
       "16      @PaulCowland_ @DrewPritchard @discoveryplusUK ...   \n",
       "...                                                   ...   \n",
       "177914  RT @itzz_blitz1: Mr doyin okupe is hinting tha...   \n",
       "177917  RT @YourGrowFriend: I have a dream wherein Pre...   \n",
       "177920  @MayraFlores2022 @newsmax You offer nothing mo...   \n",
       "177924  @apoyo_bts07 @BTS_twt Higual #PremiosMTVMiaw #...   \n",
       "177927  RT @starfuryevents: Competition Time! To celeb...   \n",
       "\n",
       "                                      context_annotations  \\\n",
       "3       [{'domain': {'id': '30', 'name': 'Entities [En...   \n",
       "9       [{'domain': {'id': '45', 'name': 'Brand Vertic...   \n",
       "12      [{'domain': {'id': '10', 'name': 'Person', 'de...   \n",
       "13      [{'domain': {'id': '159', 'name': 'States', 'd...   \n",
       "16      [{'domain': {'id': '45', 'name': 'Brand Vertic...   \n",
       "...                                                   ...   \n",
       "177914  [{'domain': {'id': '10', 'name': 'Person', 'de...   \n",
       "177917  [{'domain': {'id': '10', 'name': 'Person', 'de...   \n",
       "177920  [{'domain': {'id': '10', 'name': 'Person', 'de...   \n",
       "177924  [{'domain': {'id': '29', 'name': 'Events [Enti...   \n",
       "177927  [{'domain': {'id': '3', 'name': 'TV Shows', 'd...   \n",
       "\n",
       "                                                 entities  \\\n",
       "3       {'hashtags': [{'start': 0, 'end': 7, 'tag': 'I...   \n",
       "9       {'annotations': [{'start': 132, 'end': 138, 'p...   \n",
       "12      {'urls': [{'start': 48, 'end': 71, 'url': 'htt...   \n",
       "13      {'annotations': [{'start': 67, 'end': 74, 'pro...   \n",
       "16      {'mentions': [{'start': 0, 'end': 13, 'usernam...   \n",
       "...                                                   ...   \n",
       "177914  {'annotations': [{'start': 17, 'end': 24, 'pro...   \n",
       "177917  {'mentions': [{'start': 3, 'end': 18, 'usernam...   \n",
       "177920  {'mentions': [{'start': 0, 'end': 16, 'usernam...   \n",
       "177924  {'hashtags': [{'start': 30, 'end': 45, 'tag': ...   \n",
       "177927  {'annotations': [{'start': 77, 'end': 102, 'pr...   \n",
       "\n",
       "                                      subjects  \n",
       "3             [Interests and Hobbies Category]  \n",
       "9                                      [Brand]  \n",
       "12                        [Person, Politician]  \n",
       "13                        [Politician, Person]  \n",
       "16                                     [Brand]  \n",
       "...                                        ...  \n",
       "177914                    [Person, Politician]  \n",
       "177917                    [Politician, Person]  \n",
       "177920                    [Person, Politician]  \n",
       "177924  [K-pop, Music Genre, Musician, Person]  \n",
       "177927                       [TV Shows, Brand]  \n",
       "\n",
       "[54148 rows x 4 columns]"
      ]
     },
     "execution_count": 115,
     "metadata": {},
     "output_type": "execute_result"
    }
   ],
   "source": [
    "anotated_df_common"
   ]
  },
  {
   "cell_type": "code",
   "execution_count": 116,
   "id": "087c8193",
   "metadata": {},
   "outputs": [
    {
     "data": {
      "text/plain": [
       "False"
      ]
     },
     "execution_count": 116,
     "metadata": {},
     "output_type": "execute_result"
    }
   ],
   "source": [
    "'asd' in 'as ddd' or 'as ddd' in 'asd'"
   ]
  },
  {
   "cell_type": "code",
   "execution_count": 86,
   "id": "fbbd9a56",
   "metadata": {},
   "outputs": [],
   "source": [
    "a = set()"
   ]
  },
  {
   "cell_type": "code",
   "execution_count": 89,
   "id": "dc05c5a1",
   "metadata": {},
   "outputs": [],
   "source": [
    "a.add('as')"
   ]
  },
  {
   "cell_type": "code",
   "execution_count": 90,
   "id": "374955c8",
   "metadata": {},
   "outputs": [
    {
     "data": {
      "text/plain": [
       "{'a', 'as', 's'}"
      ]
     },
     "execution_count": 90,
     "metadata": {},
     "output_type": "execute_result"
    }
   ],
   "source": [
    "a"
   ]
  },
  {
   "cell_type": "code",
   "execution_count": 110,
   "id": "c9f5df63",
   "metadata": {},
   "outputs": [
    {
     "data": {
      "text/plain": [
       "[8, 3]"
      ]
     },
     "execution_count": 110,
     "metadata": {},
     "output_type": "execute_result"
    }
   ],
   "source": []
  },
  {
   "cell_type": "code",
   "execution_count": null,
   "id": "d534842c",
   "metadata": {},
   "outputs": [],
   "source": []
  }
 ],
 "metadata": {
  "kernelspec": {
   "display_name": "Python 3",
   "language": "python",
   "name": "python3"
  },
  "language_info": {
   "codemirror_mode": {
    "name": "ipython",
    "version": 3
   },
   "file_extension": ".py",
   "mimetype": "text/x-python",
   "name": "python",
   "nbconvert_exporter": "python",
   "pygments_lexer": "ipython3",
   "version": "3.8.8"
  }
 },
 "nbformat": 4,
 "nbformat_minor": 5
}
