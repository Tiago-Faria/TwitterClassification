{
 "cells": [
  {
   "cell_type": "code",
   "execution_count": 2,
   "id": "39ddde2b",
   "metadata": {},
   "outputs": [],
   "source": [
    "import tweepy\n",
    "import configparser"
   ]
  },
  {
   "cell_type": "code",
   "execution_count": 10,
   "id": "5a2e5a18",
   "metadata": {},
   "outputs": [
    {
     "name": "stdout",
     "output_type": "stream",
     "text": [
      "['src/config.ini']\n"
     ]
    }
   ],
   "source": [
    "config = configparser.ConfigParser()\n",
    "print(config.read('src/config.ini'))"
   ]
  },
  {
   "cell_type": "code",
   "execution_count": 11,
   "id": "22f2bc7d",
   "metadata": {},
   "outputs": [],
   "source": [
    "bearer_token = config['your.keys']['bearer_token']\n",
    "api_key = config['your.keys']['api_key']\n",
    "api_key_secret = config['your.keys']['api_key_secret']\n",
    "access_token = config['your.keys']['access_token']\n",
    "access_token_secret = config['your.keys']['access_token_secret']"
   ]
  },
  {
   "cell_type": "code",
   "execution_count": 12,
   "id": "55d77075",
   "metadata": {},
   "outputs": [],
   "source": [
    "client = tweepy.Client(\n",
    "    consumer_key = api_key,\n",
    "    consumer_secret = api_key_secret,\n",
    "    access_token= access_token,\n",
    "    access_token_secret= access_token_secret\n",
    ")"
   ]
  },
  {
   "cell_type": "code",
   "execution_count": 13,
   "id": "bc093b67",
   "metadata": {},
   "outputs": [],
   "source": [
    "response = client.get_home_timeline()"
   ]
  },
  {
   "cell_type": "code",
   "execution_count": 31,
   "id": "e4f4f295",
   "metadata": {},
   "outputs": [],
   "source": [
    "def print_tweets(response):\n",
    "    for twitte in response.data:\n",
    "        print(twitte.id)\n",
    "        print(twitte.text)\n",
    "        print(' --- ')"
   ]
  },
  {
   "cell_type": "code",
   "execution_count": 29,
   "id": "a77edb61",
   "metadata": {},
   "outputs": [],
   "source": [
    "oldest_id = response.meta['newest_id']\n",
    "response = client.get_home_timeline(since_id=oldest_id)"
   ]
  },
  {
   "cell_type": "code",
   "execution_count": 32,
   "id": "834434e3",
   "metadata": {},
   "outputs": [
    {
     "name": "stdout",
     "output_type": "stream",
     "text": [
      "1531327944374661120\n",
      "Hugging Face @huggingface is organizing a new sprint to create interactive demos for https://t.co/m6mT8SrKDD examples! Join the effort -- check out the links below. https://t.co/InKTUVIA0s\n",
      " --- \n",
      "1531327436872351744\n",
      "https://t.co/aIrQ4Q4Cqb\n",
      " --- \n",
      "1531327411186450432\n",
      "LIVE ON\n",
      "BROTA https://t.co/nNXKu2BPLn\n",
      " --- \n",
      "1531326856313683976\n",
      "✌️ https://t.co/jUWrFUVa9L\n",
      " --- \n"
     ]
    }
   ],
   "source": [
    "print_tweets(response)"
   ]
  },
  {
   "cell_type": "code",
   "execution_count": null,
   "id": "1c408b29",
   "metadata": {},
   "outputs": [],
   "source": []
  }
 ],
 "metadata": {
  "kernelspec": {
   "display_name": "Python 3",
   "language": "python",
   "name": "python3"
  },
  "language_info": {
   "codemirror_mode": {
    "name": "ipython",
    "version": 3
   },
   "file_extension": ".py",
   "mimetype": "text/x-python",
   "name": "python",
   "nbconvert_exporter": "python",
   "pygments_lexer": "ipython3",
   "version": "3.8.8"
  }
 },
 "nbformat": 4,
 "nbformat_minor": 5
}
