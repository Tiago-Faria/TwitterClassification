{
 "cells": [
  {
   "cell_type": "code",
   "execution_count": 1,
   "id": "39ddde2b",
   "metadata": {},
   "outputs": [],
   "source": [
    "import tweepy\n",
    "import configparser"
   ]
  },
  {
   "cell_type": "code",
   "execution_count": 2,
   "id": "5a2e5a18",
   "metadata": {},
   "outputs": [
    {
     "name": "stdout",
     "output_type": "stream",
     "text": [
      "['src/config.ini']\n"
     ]
    }
   ],
   "source": [
    "config = configparser.ConfigParser()\n",
    "print(config.read('src/config.ini'))"
   ]
  },
  {
   "cell_type": "code",
   "execution_count": 3,
   "id": "22f2bc7d",
   "metadata": {},
   "outputs": [],
   "source": [
    "bearer_token = config['your.keys']['bearer_token']\n",
    "api_key = config['your.keys']['api_key']\n",
    "api_key_secret = config['your.keys']['api_key_secret']\n",
    "access_token = config['your.keys']['access_token']\n",
    "access_token_secret = config['your.keys']['access_token_secret']"
   ]
  },
  {
   "cell_type": "code",
   "execution_count": 4,
   "id": "55d77075",
   "metadata": {},
   "outputs": [],
   "source": [
    "client = tweepy.Client(\n",
    "    consumer_key = api_key,\n",
    "    consumer_secret = api_key_secret,\n",
    "    access_token= access_token,\n",
    "    access_token_secret= access_token_secret\n",
    ")"
   ]
  },
  {
   "cell_type": "code",
   "execution_count": 11,
   "id": "bc093b67",
   "metadata": {},
   "outputs": [],
   "source": [
    "response = client.get_home_timeline()"
   ]
  },
  {
   "cell_type": "code",
   "execution_count": 6,
   "id": "e4f4f295",
   "metadata": {},
   "outputs": [],
   "source": [
    "def print_tweets(response):\n",
    "    for twitte in response.data:\n",
    "        print(twitte.id)\n",
    "        print(twitte.text)\n",
    "        print(' --- ')"
   ]
  },
  {
   "cell_type": "code",
   "execution_count": 7,
   "id": "a77edb61",
   "metadata": {},
   "outputs": [],
   "source": [
    "oldest_id = response.meta['newest_id']\n",
    "response = client.get_home_timeline(since_id=oldest_id)"
   ]
  },
  {
   "cell_type": "code",
   "execution_count": 10,
   "id": "834434e3",
   "metadata": {},
   "outputs": [
    {
     "ename": "TypeError",
     "evalue": "'NoneType' object is not iterable",
     "output_type": "error",
     "traceback": [
      "\u001b[1;31m---------------------------------------------------------------------------\u001b[0m",
      "\u001b[1;31mTypeError\u001b[0m                                 Traceback (most recent call last)",
      "\u001b[1;32m<ipython-input-10-ab245b5dc9e6>\u001b[0m in \u001b[0;36m<module>\u001b[1;34m\u001b[0m\n\u001b[1;32m----> 1\u001b[1;33m \u001b[0mprint_tweets\u001b[0m\u001b[1;33m(\u001b[0m\u001b[0mresponse\u001b[0m\u001b[1;33m)\u001b[0m\u001b[1;33m\u001b[0m\u001b[1;33m\u001b[0m\u001b[0m\n\u001b[0m",
      "\u001b[1;32m<ipython-input-6-94e2dabdb626>\u001b[0m in \u001b[0;36mprint_tweets\u001b[1;34m(response)\u001b[0m\n\u001b[0;32m      1\u001b[0m \u001b[1;32mdef\u001b[0m \u001b[0mprint_tweets\u001b[0m\u001b[1;33m(\u001b[0m\u001b[0mresponse\u001b[0m\u001b[1;33m)\u001b[0m\u001b[1;33m:\u001b[0m\u001b[1;33m\u001b[0m\u001b[1;33m\u001b[0m\u001b[0m\n\u001b[1;32m----> 2\u001b[1;33m     \u001b[1;32mfor\u001b[0m \u001b[0mtwitte\u001b[0m \u001b[1;32min\u001b[0m \u001b[0mresponse\u001b[0m\u001b[1;33m.\u001b[0m\u001b[0mdata\u001b[0m\u001b[1;33m:\u001b[0m\u001b[1;33m\u001b[0m\u001b[1;33m\u001b[0m\u001b[0m\n\u001b[0m\u001b[0;32m      3\u001b[0m         \u001b[0mprint\u001b[0m\u001b[1;33m(\u001b[0m\u001b[0mtwitte\u001b[0m\u001b[1;33m.\u001b[0m\u001b[0mid\u001b[0m\u001b[1;33m)\u001b[0m\u001b[1;33m\u001b[0m\u001b[1;33m\u001b[0m\u001b[0m\n\u001b[0;32m      4\u001b[0m         \u001b[0mprint\u001b[0m\u001b[1;33m(\u001b[0m\u001b[0mtwitte\u001b[0m\u001b[1;33m.\u001b[0m\u001b[0mtext\u001b[0m\u001b[1;33m)\u001b[0m\u001b[1;33m\u001b[0m\u001b[1;33m\u001b[0m\u001b[0m\n\u001b[0;32m      5\u001b[0m         \u001b[0mprint\u001b[0m\u001b[1;33m(\u001b[0m\u001b[1;34m' --- '\u001b[0m\u001b[1;33m)\u001b[0m\u001b[1;33m\u001b[0m\u001b[1;33m\u001b[0m\u001b[0m\n",
      "\u001b[1;31mTypeError\u001b[0m: 'NoneType' object is not iterable"
     ]
    }
   ],
   "source": [
    "print_tweets(response)"
   ]
  },
  {
   "cell_type": "code",
   "execution_count": 13,
   "id": "1c408b29",
   "metadata": {},
   "outputs": [
    {
     "data": {
      "text/plain": [
       "'anunciando meu GOTYQNEER (Game of the Year que não é Elden Ring) https://t.co/VAN0mh09mI'"
      ]
     },
     "execution_count": 13,
     "metadata": {},
     "output_type": "execute_result"
    }
   ],
   "source": [
    "response.data[0].text"
   ]
  },
  {
   "cell_type": "code",
   "execution_count": null,
   "id": "dddf9bd7",
   "metadata": {},
   "outputs": [],
   "source": []
  },
  {
   "cell_type": "code",
   "execution_count": 49,
   "id": "5ce588fc",
   "metadata": {},
   "outputs": [
    {
     "data": {
      "text/plain": [
       "' anunciando meu  GOTYQNEER (Game of the Year que não é Elden Ring) '"
      ]
     },
     "execution_count": 49,
     "metadata": {},
     "output_type": "execute_result"
    }
   ],
   "source": [
    "text = response.data[0].text \n",
    "http_inicio = text.find('https://')\n",
    "while(http_inicio != -1):\n",
    "    http_len = text[http_inicio:].find(' ')\n",
    "    if(http_len < 0):\n",
    "        http_len = len(text[http_inicio:])\n",
    "\n",
    "    text = text[:http_inicio] + text[http_inicio + http_len:]\n",
    "    http_inicio = text.find('https://')\n",
    "text"
   ]
  },
  {
   "cell_type": "code",
   "execution_count": 20,
   "id": "c3348645",
   "metadata": {},
   "outputs": [
    {
     "data": {
      "text/plain": [
       "'https://t.co/VAN0mh09m'"
      ]
     },
     "execution_count": 20,
     "metadata": {},
     "output_type": "execute_result"
    }
   ],
   "source": [
    "from_http = response.data[0].text[http_pos:]\n",
    "http_final = from_http.find(' ')\n",
    "from_http[:http_final]"
   ]
  },
  {
   "cell_type": "code",
   "execution_count": 54,
   "id": "1b4d83a1",
   "metadata": {},
   "outputs": [],
   "source": [
    "for tweet in response.data:\n",
    "    tweet.text = 'a'"
   ]
  },
  {
   "cell_type": "code",
   "execution_count": 55,
   "id": "1f27332a",
   "metadata": {},
   "outputs": [
    {
     "data": {
      "text/plain": [
       "[<Tweet id=1532416733188968448 text='a'>,\n",
       " <Tweet id=1532416020945809408 text='a'>,\n",
       " <Tweet id=1532415987341049856 text='a'>,\n",
       " <Tweet id=1532415303535235073 text='a'>,\n",
       " <Tweet id=1532414242736984065 text='a'>,\n",
       " <Tweet id=1532413331700477962 text='a'>,\n",
       " <Tweet id=1532412398614630401 text='a'>,\n",
       " <Tweet id=1532412309850599424 text='a'>,\n",
       " <Tweet id=1532411960297406472 text='a'>,\n",
       " <Tweet id=1532411331478835202 text='a'>,\n",
       " <Tweet id=1532411265469100032 text='a'>,\n",
       " <Tweet id=1532411065841115136 text='a'>,\n",
       " <Tweet id=1532410859250561026 text='a'>,\n",
       " <Tweet id=1532410224216260610 text='a'>,\n",
       " <Tweet id=1532408474084204545 text='a'>,\n",
       " <Tweet id=1532408245972787201 text='a'>,\n",
       " <Tweet id=1532407687429795854 text='a'>,\n",
       " <Tweet id=1532406859407233026 text='a'>,\n",
       " <Tweet id=1532406701177114630 text='a'>,\n",
       " <Tweet id=1532406696852656134 text='a'>,\n",
       " <Tweet id=1532404939074506757 text='a'>,\n",
       " <Tweet id=1532404704474501121 text='a'>,\n",
       " <Tweet id=1532404642616844288 text='a'>,\n",
       " <Tweet id=1532403881174609920 text='a'>,\n",
       " <Tweet id=1532403547672920064 text='a'>,\n",
       " <Tweet id=1532403509664038913 text='a'>,\n",
       " <Tweet id=1532403491964166148 text='a'>,\n",
       " <Tweet id=1532403273776472065 text='a'>,\n",
       " <Tweet id=1532403125117759488 text='a'>,\n",
       " <Tweet id=1532402505014968320 text='a'>,\n",
       " <Tweet id=1532401939513856000 text='a'>,\n",
       " <Tweet id=1532400611777339393 text='a'>,\n",
       " <Tweet id=1532400506554957824 text='a'>,\n",
       " <Tweet id=1532399200155144192 text='a'>,\n",
       " <Tweet id=1532398664999702528 text='a'>,\n",
       " <Tweet id=1532397640889008128 text='a'>,\n",
       " <Tweet id=1532397327108829184 text='a'>,\n",
       " <Tweet id=1532397115770646529 text='a'>,\n",
       " <Tweet id=1532396822488031233 text='a'>,\n",
       " <Tweet id=1532396185838706688 text='a'>,\n",
       " <Tweet id=1532395334000730115 text='a'>,\n",
       " <Tweet id=1532395332604026887 text='a'>,\n",
       " <Tweet id=1532394880843927552 text='a'>,\n",
       " <Tweet id=1532393082897027075 text='a'>,\n",
       " <Tweet id=1532392260712681472 text='a'>,\n",
       " <Tweet id=1532391405754130434 text='a'>,\n",
       " <Tweet id=1532390703036174336 text='a'>,\n",
       " <Tweet id=1532390634170028033 text='a'>,\n",
       " <Tweet id=1532390498337316864 text='a'>,\n",
       " <Tweet id=1532390407836950530 text='a'>,\n",
       " <Tweet id=1532389272082341895 text='a'>,\n",
       " <Tweet id=1532389074517913600 text='a'>,\n",
       " <Tweet id=1532387611314094081 text='a'>,\n",
       " <Tweet id=1532386668837101568 text='a'>,\n",
       " <Tweet id=1532384397697114113 text='a'>,\n",
       " <Tweet id=1532382525959569413 text='a'>,\n",
       " <Tweet id=1532381508866035718 text='a'>,\n",
       " <Tweet id=1532380557405036544 text='a'>,\n",
       " <Tweet id=1532379234655555584 text='a'>,\n",
       " <Tweet id=1532378767510753280 text='a'>,\n",
       " <Tweet id=1532378653438488577 text='a'>,\n",
       " <Tweet id=1532376888521506817 text='a'>,\n",
       " <Tweet id=1532376866924863488 text='a'>,\n",
       " <Tweet id=1532376786130042880 text='a'>,\n",
       " <Tweet id=1532376663782309889 text='a'>,\n",
       " <Tweet id=1532376502729203712 text='a'>,\n",
       " <Tweet id=1532375517252440066 text='a'>,\n",
       " <Tweet id=1532372890787540992 text='a'>,\n",
       " <Tweet id=1532369589891366913 text='a'>,\n",
       " <Tweet id=1532369529212440576 text='a'>,\n",
       " <Tweet id=1532366377113239553 text='a'>,\n",
       " <Tweet id=1532365850979598338 text='a'>,\n",
       " <Tweet id=1532363805929390080 text='a'>,\n",
       " <Tweet id=1532362811107643392 text='a'>,\n",
       " <Tweet id=1532362635169222656 text='a'>,\n",
       " <Tweet id=1532362633092993027 text='a'>,\n",
       " <Tweet id=1532362165314891777 text='a'>,\n",
       " <Tweet id=1532361678381359105 text='a'>,\n",
       " <Tweet id=1532360940133523456 text='a'>,\n",
       " <Tweet id=1532356935613177856 text='a'>,\n",
       " <Tweet id=1532354275707342848 text='a'>,\n",
       " <Tweet id=1532354048812277760 text='a'>,\n",
       " <Tweet id=1532350391312072704 text='a'>,\n",
       " <Tweet id=1532350343467646976 text='a'>,\n",
       " <Tweet id=1532350065871929346 text='a'>,\n",
       " <Tweet id=1532345904216391680 text='a'>,\n",
       " <Tweet id=1532344050782810122 text='a'>,\n",
       " <Tweet id=1532343875511132161 text='a'>,\n",
       " <Tweet id=1532343387059363842 text='a'>,\n",
       " <Tweet id=1532339817048055808 text='a'>,\n",
       " <Tweet id=1532335214478893056 text='a'>,\n",
       " <Tweet id=1532334543088152577 text='a'>,\n",
       " <Tweet id=1532330506947379200 text='a'>,\n",
       " <Tweet id=1532316106563518464 text='a'>]"
      ]
     },
     "execution_count": 55,
     "metadata": {},
     "output_type": "execute_result"
    }
   ],
   "source": [
    "response.data"
   ]
  },
  {
   "cell_type": "code",
   "execution_count": null,
   "id": "af058f90",
   "metadata": {},
   "outputs": [],
   "source": []
  }
 ],
 "metadata": {
  "kernelspec": {
   "display_name": "Python 3",
   "language": "python",
   "name": "python3"
  },
  "language_info": {
   "codemirror_mode": {
    "name": "ipython",
    "version": 3
   },
   "file_extension": ".py",
   "mimetype": "text/x-python",
   "name": "python",
   "nbconvert_exporter": "python",
   "pygments_lexer": "ipython3",
   "version": "3.8.8"
  }
 },
 "nbformat": 4,
 "nbformat_minor": 5
}
