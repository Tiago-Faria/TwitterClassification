{
 "cells": [
  {
   "cell_type": "code",
   "execution_count": 62,
   "metadata": {},
   "outputs": [],
   "source": [
    "import pandas as pd\n",
    "import json\n",
    "import ast\n",
    "from pprint import pprint"
   ]
  },
  {
   "cell_type": "code",
   "execution_count": 63,
   "metadata": {},
   "outputs": [],
   "source": [
    "df = pd.read_csv('data/random_tweets.csv')\n",
    "df['context_annotations'] = df['context_annotations'].apply(ast.literal_eval)\n",
    "df['entities'] = df['entities'].apply(ast.literal_eval)"
   ]
  },
  {
   "cell_type": "markdown",
   "metadata": {},
   "source": [
    "## Data Preparation"
   ]
  },
  {
   "cell_type": "code",
   "execution_count": 64,
   "metadata": {},
   "outputs": [
    {
     "data": {
      "text/html": [
       "<div>\n",
       "<style scoped>\n",
       "    .dataframe tbody tr th:only-of-type {\n",
       "        vertical-align: middle;\n",
       "    }\n",
       "\n",
       "    .dataframe tbody tr th {\n",
       "        vertical-align: top;\n",
       "    }\n",
       "\n",
       "    .dataframe thead th {\n",
       "        text-align: right;\n",
       "    }\n",
       "</style>\n",
       "<table border=\"1\" class=\"dataframe\">\n",
       "  <thead>\n",
       "    <tr style=\"text-align: right;\">\n",
       "      <th></th>\n",
       "      <th>id</th>\n",
       "      <th>text</th>\n",
       "      <th>context_annotations</th>\n",
       "      <th>entities</th>\n",
       "    </tr>\n",
       "  </thead>\n",
       "  <tbody>\n",
       "    <tr>\n",
       "      <th>0</th>\n",
       "      <td>1537787387975282695</td>\n",
       "      <td>RT @Mr_AndersonJr: Albert Pike a Freemason, re...</td>\n",
       "      <td>[]</td>\n",
       "      <td>{'annotations': [{'start': 19, 'end': 29, 'pro...</td>\n",
       "    </tr>\n",
       "    <tr>\n",
       "      <th>1</th>\n",
       "      <td>1537787387987861516</td>\n",
       "      <td>@ajaymaurya536 @ZachariaMabala @IsraelGadgets ...</td>\n",
       "      <td>[]</td>\n",
       "      <td>{'mentions': [{'start': 0, 'end': 14, 'usernam...</td>\n",
       "    </tr>\n",
       "    <tr>\n",
       "      <th>2</th>\n",
       "      <td>1537787387991891968</td>\n",
       "      <td>RT @deeptxtings: I wanna be hugged and hugged ...</td>\n",
       "      <td>[]</td>\n",
       "      <td>{'mentions': [{'start': 3, 'end': 15, 'usernam...</td>\n",
       "    </tr>\n",
       "    <tr>\n",
       "      <th>3</th>\n",
       "      <td>1537787387979309059</td>\n",
       "      <td>#Israel is working with #HongKong on a trial w...</td>\n",
       "      <td>[{'domain': {'id': '30', 'name': 'Entities [En...</td>\n",
       "      <td>{'hashtags': [{'start': 0, 'end': 7, 'tag': 'I...</td>\n",
       "    </tr>\n",
       "    <tr>\n",
       "      <th>4</th>\n",
       "      <td>1537787387996426240</td>\n",
       "      <td>@dxhnvq spill calonnya 😲</td>\n",
       "      <td>[]</td>\n",
       "      <td>{'mentions': [{'start': 0, 'end': 7, 'username...</td>\n",
       "    </tr>\n",
       "  </tbody>\n",
       "</table>\n",
       "</div>"
      ],
      "text/plain": [
       "                    id                                               text  \\\n",
       "0  1537787387975282695  RT @Mr_AndersonJr: Albert Pike a Freemason, re...   \n",
       "1  1537787387987861516  @ajaymaurya536 @ZachariaMabala @IsraelGadgets ...   \n",
       "2  1537787387991891968  RT @deeptxtings: I wanna be hugged and hugged ...   \n",
       "3  1537787387979309059  #Israel is working with #HongKong on a trial w...   \n",
       "4  1537787387996426240                           @dxhnvq spill calonnya 😲   \n",
       "\n",
       "                                 context_annotations  \\\n",
       "0                                                 []   \n",
       "1                                                 []   \n",
       "2                                                 []   \n",
       "3  [{'domain': {'id': '30', 'name': 'Entities [En...   \n",
       "4                                                 []   \n",
       "\n",
       "                                            entities  \n",
       "0  {'annotations': [{'start': 19, 'end': 29, 'pro...  \n",
       "1  {'mentions': [{'start': 0, 'end': 14, 'usernam...  \n",
       "2  {'mentions': [{'start': 3, 'end': 15, 'usernam...  \n",
       "3  {'hashtags': [{'start': 0, 'end': 7, 'tag': 'I...  \n",
       "4  {'mentions': [{'start': 0, 'end': 7, 'username...  "
      ]
     },
     "execution_count": 64,
     "metadata": {},
     "output_type": "execute_result"
    }
   ],
   "source": [
    "df.head()"
   ]
  },
  {
   "cell_type": "code",
   "execution_count": 65,
   "metadata": {},
   "outputs": [
    {
     "data": {
      "text/plain": [
       "(42874, 4)"
      ]
     },
     "execution_count": 65,
     "metadata": {},
     "output_type": "execute_result"
    }
   ],
   "source": [
    "df = df[~df['entities'].str.get('annotations').isnull()]\n",
    "df.shape"
   ]
  },
  {
   "cell_type": "code",
   "execution_count": 68,
   "metadata": {},
   "outputs": [
    {
     "data": {
      "text/plain": [
       "[{'start': 19,\n",
       "  'end': 29,\n",
       "  'probability': 0.9428,\n",
       "  'type': 'Person',\n",
       "  'normalized_text': 'Albert Pike'}]"
      ]
     },
     "execution_count": 68,
     "metadata": {},
     "output_type": "execute_result"
    }
   ],
   "source": [
    "df['annotations'] = df['entities'].str.get('annotations')\n",
    "df.loc[0, 'annotations']"
   ]
  },
  {
   "cell_type": "code",
   "execution_count": 69,
   "metadata": {},
   "outputs": [
    {
     "data": {
      "text/html": [
       "<div>\n",
       "<style scoped>\n",
       "    .dataframe tbody tr th:only-of-type {\n",
       "        vertical-align: middle;\n",
       "    }\n",
       "\n",
       "    .dataframe tbody tr th {\n",
       "        vertical-align: top;\n",
       "    }\n",
       "\n",
       "    .dataframe thead th {\n",
       "        text-align: right;\n",
       "    }\n",
       "</style>\n",
       "<table border=\"1\" class=\"dataframe\">\n",
       "  <thead>\n",
       "    <tr style=\"text-align: right;\">\n",
       "      <th></th>\n",
       "      <th>normalized_texts</th>\n",
       "      <th>probabilities</th>\n",
       "      <th>types</th>\n",
       "    </tr>\n",
       "  </thead>\n",
       "  <tbody>\n",
       "    <tr>\n",
       "      <th>0</th>\n",
       "      <td>[Albert Pike]</td>\n",
       "      <td>[0.9428]</td>\n",
       "      <td>[Person]</td>\n",
       "    </tr>\n",
       "    <tr>\n",
       "      <th>6</th>\n",
       "      <td>[Warburton]</td>\n",
       "      <td>[0.9196]</td>\n",
       "      <td>[Person]</td>\n",
       "    </tr>\n",
       "    <tr>\n",
       "      <th>9</th>\n",
       "      <td>[Spotify]</td>\n",
       "      <td>[0.8362]</td>\n",
       "      <td>[Product]</td>\n",
       "    </tr>\n",
       "    <tr>\n",
       "      <th>13</th>\n",
       "      <td>[Kentucky, Mitch McConnell, Rand Paul]</td>\n",
       "      <td>[0.6627, 0.9962, 0.9774]</td>\n",
       "      <td>[Place, Person, Person]</td>\n",
       "    </tr>\n",
       "    <tr>\n",
       "      <th>19</th>\n",
       "      <td>[Steph Furry]</td>\n",
       "      <td>[0.7869]</td>\n",
       "      <td>[Person]</td>\n",
       "    </tr>\n",
       "    <tr>\n",
       "      <th>...</th>\n",
       "      <td>...</td>\n",
       "      <td>...</td>\n",
       "      <td>...</td>\n",
       "    </tr>\n",
       "    <tr>\n",
       "      <th>177912</th>\n",
       "      <td>[Capitol Police Staff Sgt, Aquilino Gonell, Mi...</td>\n",
       "      <td>[0.2352, 0.9129, 0.9894, 0.9464]</td>\n",
       "      <td>[Organization, Person, Person, Organization]</td>\n",
       "    </tr>\n",
       "    <tr>\n",
       "      <th>177914</th>\n",
       "      <td>[Mr doyin, Peter obi]</td>\n",
       "      <td>[0.8011, 0.8315]</td>\n",
       "      <td>[Person, Person]</td>\n",
       "    </tr>\n",
       "    <tr>\n",
       "      <th>177918</th>\n",
       "      <td>[Freddie]</td>\n",
       "      <td>[0.9798]</td>\n",
       "      <td>[Person]</td>\n",
       "    </tr>\n",
       "    <tr>\n",
       "      <th>177927</th>\n",
       "      <td>[Supernatural &amp; Doom Patrol]</td>\n",
       "      <td>[0.7465]</td>\n",
       "      <td>[Other]</td>\n",
       "    </tr>\n",
       "    <tr>\n",
       "      <th>177929</th>\n",
       "      <td>[WenZhou]</td>\n",
       "      <td>[0.7657]</td>\n",
       "      <td>[Place]</td>\n",
       "    </tr>\n",
       "  </tbody>\n",
       "</table>\n",
       "<p>42874 rows × 3 columns</p>\n",
       "</div>"
      ],
      "text/plain": [
       "                                         normalized_texts  \\\n",
       "0                                           [Albert Pike]   \n",
       "6                                             [Warburton]   \n",
       "9                                               [Spotify]   \n",
       "13                 [Kentucky, Mitch McConnell, Rand Paul]   \n",
       "19                                          [Steph Furry]   \n",
       "...                                                   ...   \n",
       "177912  [Capitol Police Staff Sgt, Aquilino Gonell, Mi...   \n",
       "177914                              [Mr doyin, Peter obi]   \n",
       "177918                                          [Freddie]   \n",
       "177927                       [Supernatural & Doom Patrol]   \n",
       "177929                                          [WenZhou]   \n",
       "\n",
       "                           probabilities  \\\n",
       "0                               [0.9428]   \n",
       "6                               [0.9196]   \n",
       "9                               [0.8362]   \n",
       "13              [0.6627, 0.9962, 0.9774]   \n",
       "19                              [0.7869]   \n",
       "...                                  ...   \n",
       "177912  [0.2352, 0.9129, 0.9894, 0.9464]   \n",
       "177914                  [0.8011, 0.8315]   \n",
       "177918                          [0.9798]   \n",
       "177927                          [0.7465]   \n",
       "177929                          [0.7657]   \n",
       "\n",
       "                                               types  \n",
       "0                                           [Person]  \n",
       "6                                           [Person]  \n",
       "9                                          [Product]  \n",
       "13                           [Place, Person, Person]  \n",
       "19                                          [Person]  \n",
       "...                                              ...  \n",
       "177912  [Organization, Person, Person, Organization]  \n",
       "177914                              [Person, Person]  \n",
       "177918                                      [Person]  \n",
       "177927                                       [Other]  \n",
       "177929                                       [Place]  \n",
       "\n",
       "[42874 rows x 3 columns]"
      ]
     },
     "execution_count": 69,
     "metadata": {},
     "output_type": "execute_result"
    }
   ],
   "source": [
    "df['normalized_texts'] = df['annotations'].apply(lambda x: [annotation['normalized_text'] for annotation in x])\n",
    "df['probabilities'] = df['annotations'].apply(lambda x: [annotation['probability'] for annotation in x])\n",
    "df['types'] = df['annotations'].apply(lambda x: [annotation['type'] for annotation in x])\n",
    "df[['normalized_texts', 'probabilities', 'types']]"
   ]
  },
  {
   "cell_type": "markdown",
   "metadata": {},
   "source": [
    "## Probability Distribution"
   ]
  },
  {
   "cell_type": "code",
   "execution_count": 76,
   "metadata": {},
   "outputs": [
    {
     "data": {
      "text/plain": [
       "0        0.9428\n",
       "1        0.9196\n",
       "2        0.8362\n",
       "3        0.6627\n",
       "4        0.9962\n",
       "          ...  \n",
       "66514    0.8011\n",
       "66515    0.8315\n",
       "66516    0.9798\n",
       "66517    0.7465\n",
       "66518    0.7657\n",
       "Name: Entity probabilities, Length: 66519, dtype: float64"
      ]
     },
     "execution_count": 76,
     "metadata": {},
     "output_type": "execute_result"
    }
   ],
   "source": [
    "all_probabilities = []\n",
    "for prob in df['probabilities']:\n",
    "    all_probabilities += prob\n",
    "all_probabilities = pd.Series(all_probabilities, name='Entity probabilities')\n",
    "all_probabilities"
   ]
  },
  {
   "cell_type": "code",
   "execution_count": 102,
   "metadata": {},
   "outputs": [
    {
     "data": {
      "text/plain": [
       "Text(0, 0.5, 'Number of entities')"
      ]
     },
     "execution_count": 102,
     "metadata": {},
     "output_type": "execute_result"
    },
    {
     "data": {
      "image/png": "[encoded data removed]",
      "text/plain": [
       "<Figure size 648x432 with 1 Axes>"
      ]
     },
     "metadata": {
      "needs_background": "light"
     },
     "output_type": "display_data"
    }
   ],
   "source": [
    "ax = all_probabilities.hist(bins=30, figsize=(9,6))\n",
    "ax.set_title('Entity probability distribution', fontdict={'fontsize':18})\n",
    "ax.set_xlabel('Probability (%)', fontdict={'fontsize':15})\n",
    "ax.set_ylabel('Number of entities', fontdict={'fontsize':15})"
   ]
  },
  {
   "cell_type": "code",
   "execution_count": 101,
   "metadata": {},
   "outputs": [
    {
     "data": {
      "text/plain": [
       "Text(0, 0.5, 'Entities rate (%)')"
      ]
     },
     "execution_count": 101,
     "metadata": {},
     "output_type": "execute_result"
    },
    {
     "data": {
      "image/png": "[encoded data removed]",
      "text/plain": [
       "<Figure size 648x432 with 1 Axes>"
      ]
     },
     "metadata": {
      "needs_background": "light"
     },
     "output_type": "display_data"
    }
   ],
   "source": [
    "ax = all_probabilities.hist(bins=30, density=True, cumulative=True, histtype='step', linewidth=2, figsize=(9,6))\n",
    "ax.set_title('Entity probability comulative distribution', fontdict={'fontsize':18})\n",
    "ax.set_xlabel('Probability (%)', fontdict={'fontsize':15})\n",
    "ax.set_ylabel('Entities rate (%)', fontdict={'fontsize':15})"
   ]
  }
 ],
 "metadata": {
  "kernelspec": {
   "display_name": "Python 3.8.8 ('base')",
   "language": "python",
   "name": "python3"
  },
  "language_info": {
   "codemirror_mode": {
    "name": "ipython",
    "version": 3
   },
   "file_extension": ".py",
   "mimetype": "text/x-python",
   "name": "python",
   "nbconvert_exporter": "python",
   "pygments_lexer": "ipython3",
   "version": "3.8.8"
  },
  "orig_nbformat": 4,
  "vscode": {
   "interpreter": {
    "hash": "7ea365085f3807110e1cdcb04122fb278047fe100a09bc2730588139759355b3"
   }
  }
 },
 "nbformat": 4,
 "nbformat_minor": 2
}
